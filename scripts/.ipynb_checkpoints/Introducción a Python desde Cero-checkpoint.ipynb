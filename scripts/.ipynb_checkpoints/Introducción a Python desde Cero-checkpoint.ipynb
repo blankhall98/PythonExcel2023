{
 "cells": [
  {
   "cell_type": "markdown",
   "metadata": {},
   "source": [
    "# Python desde Cero\n",
    "#### Un curso de Zero2Hero; Una introducción a la Programación con Python"
   ]
  },
  {
   "cell_type": "markdown",
   "metadata": {},
   "source": [
    "##### 1. Variables"
   ]
  },
  {
   "cell_type": "code",
   "execution_count": 1,
   "metadata": {},
   "outputs": [],
   "source": [
    "# str == string (cadena de texto)\n",
    "name = \"Jonatan\""
   ]
  },
  {
   "cell_type": "code",
   "execution_count": 2,
   "metadata": {},
   "outputs": [],
   "source": [
    "# int == integer (número entero)\n",
    "age = 25"
   ]
  },
  {
   "cell_type": "code",
   "execution_count": 3,
   "metadata": {},
   "outputs": [],
   "source": [
    "# float (número decimal/ número de punto flotante)\n",
    "height = 1.79"
   ]
  },
  {
   "cell_type": "code",
   "execution_count": 6,
   "metadata": {},
   "outputs": [
    {
     "data": {
      "text/plain": [
       "float"
      ]
     },
     "execution_count": 6,
     "metadata": {},
     "output_type": "execute_result"
    }
   ],
   "source": [
    "# determinar qué tipo de variable es la variable evaluada\n",
    "type(height)"
   ]
  },
  {
   "cell_type": "markdown",
   "metadata": {},
   "source": [
    "##### 1.1 Operaciones con Variables"
   ]
  },
  {
   "cell_type": "code",
   "execution_count": 23,
   "metadata": {},
   "outputs": [
    {
     "name": "stdout",
     "output_type": "stream",
     "text": [
      "Dado un ahorro inicial de $15000, y una tasa anual de 10.7%, invirtiendo el dinero por 0.3333333333333333 año, se obtine $15535.000000000002\n"
     ]
    }
   ],
   "source": [
    "#monto inicial\n",
    "ahorro = 15000\n",
    "# invertir mi ahorro en bonos del gobierno\n",
    "tasa_anual = 10.7\n",
    "#¿cuánto dinero obtengo por invertir mi dinero N años? (N <= 1)\n",
    "N = 1/3\n",
    "tasa = tasa_anual*N\n",
    "\n",
    "interes = ahorro*(1+tasa/100) #interes simple\n",
    "\n",
    "#imprimir resultado\n",
    "print(f'Dado un ahorro inicial de ${ahorro}, y una tasa anual de {tasa_anual}%, invirtiendo el dinero por {N} año, se obtine ${interes}')"
   ]
  },
  {
   "cell_type": "code",
   "execution_count": 16,
   "metadata": {},
   "outputs": [],
   "source": [
    "#definimos dos variables\n",
    "x = 10\n",
    "y = -2"
   ]
  },
  {
   "cell_type": "code",
   "execution_count": 17,
   "metadata": {},
   "outputs": [
    {
     "data": {
      "text/plain": [
       "8"
      ]
     },
     "execution_count": 17,
     "metadata": {},
     "output_type": "execute_result"
    }
   ],
   "source": [
    "#suma\n",
    "x+y"
   ]
  },
  {
   "cell_type": "code",
   "execution_count": 18,
   "metadata": {},
   "outputs": [
    {
     "data": {
      "text/plain": [
       "12"
      ]
     },
     "execution_count": 18,
     "metadata": {},
     "output_type": "execute_result"
    }
   ],
   "source": [
    "#resta\n",
    "x-y"
   ]
  },
  {
   "cell_type": "code",
   "execution_count": 19,
   "metadata": {},
   "outputs": [
    {
     "data": {
      "text/plain": [
       "-20"
      ]
     },
     "execution_count": 19,
     "metadata": {},
     "output_type": "execute_result"
    }
   ],
   "source": [
    "#multipicación\n",
    "x*y"
   ]
  },
  {
   "cell_type": "code",
   "execution_count": 20,
   "metadata": {},
   "outputs": [
    {
     "data": {
      "text/plain": [
       "-5.0"
      ]
     },
     "execution_count": 20,
     "metadata": {},
     "output_type": "execute_result"
    }
   ],
   "source": [
    "#división\n",
    "x/y"
   ]
  },
  {
   "cell_type": "code",
   "execution_count": 21,
   "metadata": {},
   "outputs": [
    {
     "data": {
      "text/plain": [
       "0.01"
      ]
     },
     "execution_count": 21,
     "metadata": {},
     "output_type": "execute_result"
    }
   ],
   "source": [
    "#exponente\n",
    "# 10**-2 == 1/(10**2)\n",
    "x**y"
   ]
  },
  {
   "cell_type": "markdown",
   "metadata": {},
   "source": [
    "##### 2. Lógica"
   ]
  },
  {
   "cell_type": "code",
   "execution_count": 24,
   "metadata": {},
   "outputs": [],
   "source": [
    "#ejemplo edad mínima\n",
    "edad_minima = 18"
   ]
  },
  {
   "cell_type": "code",
   "execution_count": 25,
   "metadata": {},
   "outputs": [],
   "source": [
    "edad = 17"
   ]
  },
  {
   "cell_type": "code",
   "execution_count": 28,
   "metadata": {},
   "outputs": [
    {
     "data": {
      "text/plain": [
       "False"
      ]
     },
     "execution_count": 28,
     "metadata": {},
     "output_type": "execute_result"
    }
   ],
   "source": [
    "edad >= edad_minima"
   ]
  },
  {
   "cell_type": "code",
   "execution_count": 29,
   "metadata": {},
   "outputs": [],
   "source": [
    "#ejemplo de log in\n",
    "username = \"user\"\n",
    "password = \"psw\""
   ]
  },
  {
   "cell_type": "code",
   "execution_count": 36,
   "metadata": {},
   "outputs": [],
   "source": [
    "try_username = \"user\"\n",
    "try_password = \"psw\""
   ]
  },
  {
   "cell_type": "code",
   "execution_count": 37,
   "metadata": {},
   "outputs": [
    {
     "data": {
      "text/plain": [
       "True"
      ]
     },
     "execution_count": 37,
     "metadata": {},
     "output_type": "execute_result"
    }
   ],
   "source": [
    "username == try_username and password == try_password"
   ]
  },
  {
   "cell_type": "code",
   "execution_count": 43,
   "metadata": {},
   "outputs": [],
   "source": [
    "#ejemplo de match\n",
    "height = 1.8\n",
    "eyes = \"blue\""
   ]
  },
  {
   "cell_type": "code",
   "execution_count": 46,
   "metadata": {},
   "outputs": [],
   "source": [
    "usr_height = 1.85\n",
    "usr_eyes = \"green\""
   ]
  },
  {
   "cell_type": "code",
   "execution_count": 47,
   "metadata": {},
   "outputs": [
    {
     "data": {
      "text/plain": [
       "True"
      ]
     },
     "execution_count": 47,
     "metadata": {},
     "output_type": "execute_result"
    }
   ],
   "source": [
    "usr_height >= height or usr_eyes == eyes"
   ]
  },
  {
   "cell_type": "markdown",
   "metadata": {},
   "source": [
    "##### 3. Condicionales"
   ]
  },
  {
   "cell_type": "code",
   "execution_count": 65,
   "metadata": {},
   "outputs": [],
   "source": [
    "edad = 15\n",
    "sexo = 'F' #M, F"
   ]
  },
  {
   "cell_type": "code",
   "execution_count": 66,
   "metadata": {},
   "outputs": [
    {
     "name": "stdout",
     "output_type": "stream",
     "text": [
      "No tienes edad suficiente para entrar al antro\n"
     ]
    }
   ],
   "source": [
    "if sexo == 'M':\n",
    "    if edad >= 18:\n",
    "        print('Puedes entrar')\n",
    "    else:\n",
    "        print('No tienes edad suficiente para entrar al antro')\n",
    "elif sexo == 'F':\n",
    "    if edad >= 16:\n",
    "        print('Puedes entrar')\n",
    "    else:\n",
    "        print('No tienes edad suficiente para entrar al antro')\n",
    "else:\n",
    "    print('No introdujiste un sexo válido')"
   ]
  },
  {
   "cell_type": "markdown",
   "metadata": {},
   "source": [
    "##### 4. Estructuras de Datos"
   ]
  },
  {
   "cell_type": "markdown",
   "metadata": {},
   "source": [
    "##### 4.1 Listas"
   ]
  },
  {
   "cell_type": "code",
   "execution_count": 67,
   "metadata": {},
   "outputs": [],
   "source": [
    "amigos = []"
   ]
  },
  {
   "cell_type": "code",
   "execution_count": 71,
   "metadata": {},
   "outputs": [],
   "source": [
    "amigos.append(\"Angel\")"
   ]
  },
  {
   "cell_type": "code",
   "execution_count": 72,
   "metadata": {},
   "outputs": [
    {
     "name": "stdout",
     "output_type": "stream",
     "text": [
      "['Joshua', 'Sofía', 'Paola', 'Angel']\n"
     ]
    }
   ],
   "source": [
    "print(amigos)"
   ]
  },
  {
   "cell_type": "code",
   "execution_count": 73,
   "metadata": {},
   "outputs": [
    {
     "data": {
      "text/plain": [
       "4"
      ]
     },
     "execution_count": 73,
     "metadata": {},
     "output_type": "execute_result"
    }
   ],
   "source": [
    "#longitud de la lista == ¿cúantos elementos tiene la lista?\n",
    "len(amigos)"
   ]
  },
  {
   "cell_type": "code",
   "execution_count": 80,
   "metadata": {},
   "outputs": [
    {
     "data": {
      "text/plain": [
       "'Joshua'"
      ]
     },
     "execution_count": 80,
     "metadata": {},
     "output_type": "execute_result"
    }
   ],
   "source": [
    "#identar la lista == acceder a los elementos mediante su ubicación\n",
    "amigos[-4]"
   ]
  },
  {
   "cell_type": "markdown",
   "metadata": {},
   "source": [
    "##### 4.2 Diccionarios"
   ]
  },
  {
   "cell_type": "code",
   "execution_count": 81,
   "metadata": {},
   "outputs": [],
   "source": [
    "amigos = {\n",
    "    '1': {\n",
    "        'nombre': 'Joshua',\n",
    "        'edad': 20,\n",
    "        'sexo': 'M',\n",
    "        'mail': 'joshua@mail.com'\n",
    "    },\n",
    "    '2': {\n",
    "        'nombre': 'Sofía',\n",
    "        'edad': 22,\n",
    "        'sexo': 'F',\n",
    "        'mail': 'sofia@mail.com'\n",
    "    }\n",
    "}"
   ]
  },
  {
   "cell_type": "code",
   "execution_count": 90,
   "metadata": {},
   "outputs": [],
   "source": [
    "amigos['3'] = {\n",
    "    'nombre': 'Paola',\n",
    "    'edad': 30,\n",
    "    'sexo': 'F',\n",
    "    'mail': 'paola@mail.com'\n",
    "}"
   ]
  },
  {
   "cell_type": "code",
   "execution_count": 91,
   "metadata": {},
   "outputs": [
    {
     "data": {
      "text/plain": [
       "{'1': {'nombre': 'Joshua', 'edad': 20, 'sexo': 'M', 'mail': 'joshua@mail.com'},\n",
       " '2': {'nombre': 'Sofía', 'edad': 22, 'sexo': 'F', 'mail': 'sofia@mail.com'},\n",
       " '3': {'nombre': 'Paola', 'edad': 30, 'sexo': 'F', 'mail': 'paola@mail.com'}}"
      ]
     },
     "execution_count": 91,
     "metadata": {},
     "output_type": "execute_result"
    }
   ],
   "source": [
    "amigos"
   ]
  },
  {
   "cell_type": "markdown",
   "metadata": {},
   "source": [
    "##### 5. Ciclos"
   ]
  },
  {
   "cell_type": "code",
   "execution_count": 98,
   "metadata": {},
   "outputs": [],
   "source": [
    "monto = 10000\n",
    "tasas = [5,7,11,2,1,0.65]\n"
   ]
  },
  {
   "cell_type": "code",
   "execution_count": 99,
   "metadata": {},
   "outputs": [
    {
     "name": "stdout",
     "output_type": "stream",
     "text": [
      "Una inversión inicial de $10000 a una tasa de 5%, se obtiene $10500.0\n",
      "Una inversión inicial de $10000 a una tasa de 7%, se obtiene $10700.0\n",
      "Una inversión inicial de $10000 a una tasa de 11%, se obtiene $11100.000000000002\n",
      "Una inversión inicial de $10000 a una tasa de 2%, se obtiene $10200.0\n",
      "Una inversión inicial de $10000 a una tasa de 1%, se obtiene $10100.0\n",
      "Una inversión inicial de $10000 a una tasa de 0.65%, se obtiene $10065.0\n"
     ]
    }
   ],
   "source": [
    "for t in tasas:\n",
    "    print(f'Una inversión inicial de ${monto} a una tasa de {t}%, se obtiene ${monto*(1+t/100)}')"
   ]
  },
  {
   "cell_type": "code",
   "execution_count": 104,
   "metadata": {},
   "outputs": [
    {
     "name": "stdout",
     "output_type": "stream",
     "text": [
      "Mi amigo Joshua tiene 20 años\n",
      "Mi amigo Sofía tiene 22 años\n",
      "Mi amigo Paola tiene 30 años\n"
     ]
    }
   ],
   "source": [
    "for key in amigos.keys():\n",
    "    print(f\"Mi amigo {amigos[key]['nombre']} tiene {amigos[key]['edad']} años\")"
   ]
  },
  {
   "cell_type": "markdown",
   "metadata": {},
   "source": [
    "##### 6. Funciones"
   ]
  },
  {
   "cell_type": "code",
   "execution_count": 105,
   "metadata": {},
   "outputs": [],
   "source": [
    "#función que saluda gente\n",
    "\n",
    "# input: nombre de la persona\n",
    "# output: saludo personalizado a la persona\n",
    "\n",
    "def saludo(nombre):\n",
    "    return f'Ten un excelente día {nombre}'"
   ]
  },
  {
   "cell_type": "code",
   "execution_count": 108,
   "metadata": {},
   "outputs": [
    {
     "data": {
      "text/plain": [
       "'Ten un excelente día Paola'"
      ]
     },
     "execution_count": 108,
     "metadata": {},
     "output_type": "execute_result"
    }
   ],
   "source": [
    "saludo('Paola')"
   ]
  },
  {
   "cell_type": "code",
   "execution_count": 110,
   "metadata": {},
   "outputs": [],
   "source": [
    "# función que calcule el interes simple\n",
    "\n",
    "# input : monto inicial, tasa de interes, tiempo\n",
    "# output: retorno\n",
    "# 3 --> 1\n",
    "\n",
    "def IS(monto_inicial,interes,tiempo):\n",
    "    return monto_inicial*(1+(interes/100)*tiempo)"
   ]
  },
  {
   "cell_type": "code",
   "execution_count": 116,
   "metadata": {},
   "outputs": [
    {
     "data": {
      "text/plain": [
       "20000.0"
      ]
     },
     "execution_count": 116,
     "metadata": {},
     "output_type": "execute_result"
    }
   ],
   "source": [
    "IS(10000,10,10)"
   ]
  },
  {
   "cell_type": "code",
   "execution_count": 113,
   "metadata": {},
   "outputs": [],
   "source": [
    "# función que calcule el interes compuesto\n",
    "\n",
    "# input : monto inicial, tasa de interes, tiempo\n",
    "# output: retorno\n",
    "# 3 --> 1\n",
    "\n",
    "def IC(monto_inicial,interes,tiempo):\n",
    "    return monto_inicial*(1+(interes/100))**tiempo"
   ]
  },
  {
   "cell_type": "code",
   "execution_count": 115,
   "metadata": {},
   "outputs": [
    {
     "data": {
      "text/plain": [
       "25937.424601000024"
      ]
     },
     "execution_count": 115,
     "metadata": {},
     "output_type": "execute_result"
    }
   ],
   "source": [
    "IC(10000,10,10)"
   ]
  },
  {
   "cell_type": "markdown",
   "metadata": {},
   "source": [
    "##### 7. Paqueterías externas"
   ]
  },
  {
   "cell_type": "code",
   "execution_count": 117,
   "metadata": {},
   "outputs": [
    {
     "name": "stdout",
     "output_type": "stream",
     "text": [
      "Requirement already satisfied: pandas in c:\\users\\52998\\anaconda3\\lib\\site-packages (1.1.3)\n",
      "Requirement already satisfied: pytz>=2017.2 in c:\\users\\52998\\anaconda3\\lib\\site-packages (from pandas) (2020.1)\n",
      "Requirement already satisfied: numpy>=1.15.4 in c:\\users\\52998\\anaconda3\\lib\\site-packages (from pandas) (1.19.2)\n",
      "Requirement already satisfied: python-dateutil>=2.7.3 in c:\\users\\52998\\anaconda3\\lib\\site-packages (from pandas) (2.8.1)\n",
      "Requirement already satisfied: six>=1.5 in c:\\users\\52998\\anaconda3\\lib\\site-packages (from python-dateutil>=2.7.3->pandas) (1.15.0)Note: you may need to restart the kernel to use updated packages.\n",
      "\n"
     ]
    }
   ],
   "source": [
    "pip install pandas"
   ]
  },
  {
   "cell_type": "code",
   "execution_count": 119,
   "metadata": {},
   "outputs": [],
   "source": [
    "import pandas as pd"
   ]
  },
  {
   "cell_type": "code",
   "execution_count": 120,
   "metadata": {},
   "outputs": [],
   "source": [
    "import matplotlib.pyplot as plt"
   ]
  },
  {
   "cell_type": "code",
   "execution_count": 122,
   "metadata": {},
   "outputs": [],
   "source": [
    "monto_inicial = 10000\n",
    "tasa = 5\n",
    "\n",
    "tiempo = [0,1,2,3,4,5,6,7,8,9,10]\n",
    "returns = []\n",
    "for t in tiempo:\n",
    "    returns.append(IC(monto_inicial,tasa,t))"
   ]
  },
  {
   "cell_type": "code",
   "execution_count": 126,
   "metadata": {},
   "outputs": [
    {
     "data": {
      "image/png": "[encoded data removed]",
      "text/plain": [
       "<Figure size 720x432 with 1 Axes>"
      ]
     },
     "metadata": {
      "needs_background": "light"
     },
     "output_type": "display_data"
    }
   ],
   "source": [
    "plt.figure(figsize = (10,6))\n",
    "plt.title('Estrategia de Inversión')\n",
    "plt.plot(tiempo,returns,'ro--',label='Estrategia')\n",
    "plt.xlabel('Tiempo')\n",
    "plt.ylabel('$')\n",
    "plt.legend()\n",
    "plt.show()"
   ]
  }
 ],
 "metadata": {
  "kernelspec": {
   "display_name": "Python 3",
   "language": "python",
   "name": "python3"
  },
  "language_info": {
   "codemirror_mode": {
    "name": "ipython",
    "version": 3
   },
   "file_extension": ".py",
   "mimetype": "text/x-python",
   "name": "python",
   "nbconvert_exporter": "python",
   "pygments_lexer": "ipython3",
   "version": "3.8.5"
  }
 },
 "nbformat": 4,
 "nbformat_minor": 4
}
